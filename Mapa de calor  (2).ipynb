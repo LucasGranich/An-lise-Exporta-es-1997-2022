{
 "cells": [
  {
   "cell_type": "code",
   "execution_count": null,
   "id": "4e41a890",
   "metadata": {},
   "outputs": [],
   "source": [
    "import geopandas as gpd\n",
    "import matplotlib.pyplot as plt\n",
    "import seaborn as sns\n",
    "import pandas as pd\n",
    "from scipy import stats"
   ]
  },
  {
   "cell_type": "code",
   "execution_count": null,
   "id": "c107b263",
   "metadata": {},
   "outputs": [],
   "source": [
    "#importação da tabela de 1997\n",
    "df = pd.read_csv(r\"C:\\Users\\marci\\Downloads\\gustavo.csv\")"
   ]
  },
  {
   "cell_type": "code",
   "execution_count": null,
   "id": "f1197445",
   "metadata": {},
   "outputs": [],
   "source": [
    "import requests\n",
    "\n",
    "response = requests.get(url = 'https://raw.githubusercontent.com/johan/world.geo.json/master/countries.geo.json')\n",
    "if response.status_code == 200:\n",
    "    state_geo = response.json()"
   ]
  },
  {
   "cell_type": "code",
   "execution_count": null,
   "id": "8055b235",
   "metadata": {},
   "outputs": [],
   "source": [
    "import plotly.express as px\n",
    "import pandas as pd\n",
    "\n",
    "\n",
    "\n",
    "\n",
    "geojson_url = 'https://raw.githubusercontent.com/python-visualization/folium/master/tests/us-counties.json' \n",
    "\n",
    "\n",
    "fig = px.choropleth(df, \n",
    "                    locations='Regiao', \n",
    "                    locationmode='country names', \n",
    "                    geojson=state_geo,\n",
    "                    color='VL_FOB',\n",
    "                    animation_frame='Ano',\n",
    "                    title='Evolução das Importações por País (1997-2022)',\n",
    "                    color_continuous_scale='YlGnBu',\n",
    "                    labels={'VL_FOB': 'Valor das Importações'}\n",
    "                   )\n",
    "\n",
    "\n",
    "fig.update_geos(fitbounds=\"locations\", visible=False)\n",
    "fig.update_layout(title_font=dict(size=18), title_x=0.5)"
   ]
  },
  {
   "cell_type": "code",
   "execution_count": null,
   "id": "bd988573",
   "metadata": {},
   "outputs": [],
   "source": []
  }
 ],
 "metadata": {
  "kernelspec": {
   "display_name": "Python 3 (ipykernel)",
   "language": "python",
   "name": "python3"
  },
  "language_info": {
   "codemirror_mode": {
    "name": "ipython",
    "version": 3
   },
   "file_extension": ".py",
   "mimetype": "text/x-python",
   "name": "python",
   "nbconvert_exporter": "python",
   "pygments_lexer": "ipython3",
   "version": "3.9.13"
  }
 },
 "nbformat": 4,
 "nbformat_minor": 5
}
